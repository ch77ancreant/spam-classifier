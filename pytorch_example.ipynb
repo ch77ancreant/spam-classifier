{
 "cells": [
  {
   "cell_type": "code",
   "execution_count": 1,
   "id": "87d55ddc",
   "metadata": {},
   "outputs": [],
   "source": [
    "import torch\n",
    "import pandas as pd\n",
    "from torch.utils.data import Dataset\n",
    "from torch.utils.data import random_split\n",
    "from torch.utils.data import DataLoader\n",
    "from torch import nn\n",
    "from torchsummary import summary"
   ]
  },
  {
   "cell_type": "code",
   "execution_count": 2,
   "id": "4c5a6c26",
   "metadata": {},
   "outputs": [],
   "source": [
    "class Email(Dataset):\n",
    "    \n",
    "    def __init__(self, file_path):\n",
    "        self.file_path = pd.read_csv(file_path)\n",
    "        \n",
    "    def __len__(self):\n",
    "        return len(self.file_path)\n",
    "    \n",
    "    def __getitem__(self, index):\n",
    "        word_count = torch.tensor([self.file_path.iloc[index, 1:-1]], dtype=torch.float)\n",
    "        label = torch.tensor([self.file_path.iloc[index, -1]], dtype=torch.float)\n",
    "        return word_count, label"
   ]
  },
  {
   "cell_type": "code",
   "execution_count": 3,
   "id": "348160d0",
   "metadata": {},
   "outputs": [],
   "source": [
    "class Network(nn.Module):\n",
    "    \n",
    "    def __init__(self):\n",
    "        super().__init__()\n",
    "        self.fc1 = nn.Linear(3000, 1)\n",
    "        self.sigmoid = nn.Sigmoid()\n",
    "        \n",
    "    def forward(self, x):\n",
    "        x = self.fc1(x)\n",
    "        x = self.sigmoid(x)\n",
    "        return x"
   ]
  },
  {
   "cell_type": "code",
   "execution_count": 4,
   "id": "2a16c6ba",
   "metadata": {},
   "outputs": [],
   "source": [
    "def train_single_epoch(model, data_loader, loss_fn, optimiser):\n",
    "\n",
    "    for sample, target in data_loader:\n",
    "\n",
    "        # calculate loss\n",
    "        target = target.flatten()\n",
    "        prediction = model(sample)\n",
    "        prediction = prediction.flatten()\n",
    "        loss = loss_fn(prediction, target)\n",
    "\n",
    "        # backpropagate error and update weights\n",
    "        optimiser.zero_grad()\n",
    "        loss.backward()\n",
    "        optimiser.step()\n",
    "\n",
    "    return loss.item()"
   ]
  },
  {
   "cell_type": "code",
   "execution_count": 5,
   "id": "8f7abd2e",
   "metadata": {},
   "outputs": [
    {
     "name": "stdout",
     "output_type": "stream",
     "text": [
      "length of the dataset is: 5172\n"
     ]
    }
   ],
   "source": [
    "url='https://drive.google.com/file/d/15lHo3g3MacKROIxPXoKb5BKJlnkZ0KsT/view?usp=sharing'\n",
    "url='https://drive.google.com/uc?id=' + url.split('/')[-2]\n",
    "\n",
    "em_set = Email(url)\n",
    "print(\"length of the dataset is:\", len(em_set))"
   ]
  },
  {
   "cell_type": "code",
   "execution_count": 6,
   "id": "a71ed6a3",
   "metadata": {},
   "outputs": [],
   "source": [
    "rate = 0.8\n",
    "LEN_em = len(em_set)\n",
    "LEN_train = int(rate * LEN_em)\n",
    "LEN_test = LEN_em - LEN_train"
   ]
  },
  {
   "cell_type": "code",
   "execution_count": 7,
   "id": "562314b5",
   "metadata": {},
   "outputs": [],
   "source": [
    "train_data, test_data = random_split(em_set, [LEN_train, LEN_test])\n",
    "train_loader = DataLoader(train_data, batch_size = 128, shuffle = True)\n",
    "test_loader = DataLoader(test_data, batch_size = 128, shuffle = False)"
   ]
  },
  {
   "cell_type": "code",
   "execution_count": 8,
   "id": "f484d1f3",
   "metadata": {},
   "outputs": [
    {
     "name": "stdout",
     "output_type": "stream",
     "text": [
      "----------------------------------------------------------------\n",
      "        Layer (type)               Output Shape         Param #\n",
      "================================================================\n",
      "            Linear-1                 [-1, 1, 1]           3,001\n",
      "           Sigmoid-2                 [-1, 1, 1]               0\n",
      "================================================================\n",
      "Total params: 3,001\n",
      "Trainable params: 3,001\n",
      "Non-trainable params: 0\n",
      "----------------------------------------------------------------\n",
      "Input size (MB): 0.01\n",
      "Forward/backward pass size (MB): 0.00\n",
      "Params size (MB): 0.01\n",
      "Estimated Total Size (MB): 0.02\n",
      "----------------------------------------------------------------\n"
     ]
    }
   ],
   "source": [
    "model = Network()\n",
    "summary(model, (1, 3000))"
   ]
  },
  {
   "cell_type": "code",
   "execution_count": 9,
   "id": "fbeca7bf",
   "metadata": {},
   "outputs": [],
   "source": [
    "loss_fn = nn.MSELoss()\n",
    "optimiser = torch.optim.Adam(model.parameters(), lr=0.001)"
   ]
  },
  {
   "cell_type": "code",
   "execution_count": 10,
   "id": "50e8a77b",
   "metadata": {},
   "outputs": [
    {
     "name": "stdout",
     "output_type": "stream",
     "text": [
      "Epoch 1\n",
      "tranning loss: 0.12637469172477722\n",
      "---------------------------\n",
      "Epoch 2\n",
      "tranning loss: 0.06488882750272751\n",
      "---------------------------\n",
      "Epoch 3\n",
      "tranning loss: 0.056798841804265976\n",
      "---------------------------\n",
      "Epoch 4\n",
      "tranning loss: 0.06736987084150314\n",
      "---------------------------\n",
      "Epoch 5\n",
      "tranning loss: 0.05660796910524368\n",
      "---------------------------\n",
      "Finished training\n"
     ]
    }
   ],
   "source": [
    "EPOCHS = 5\n",
    "for i in range(EPOCHS):\n",
    "    print(f\"Epoch {i+1}\")\n",
    "    loss = train_single_epoch(model, train_loader, loss_fn, optimiser)\n",
    "    print(f\"tranning loss: {loss}\")\n",
    "    print(\"---------------------------\")\n",
    "print(\"Finished training\")"
   ]
  },
  {
   "cell_type": "code",
   "execution_count": 11,
   "id": "3442a5d7",
   "metadata": {},
   "outputs": [
    {
     "name": "stdout",
     "output_type": "stream",
     "text": [
      "validation accuracy: 0.9671497344970703\n"
     ]
    }
   ],
   "source": [
    "correct_sample = 0.0\n",
    "num_sample = 0.0\n",
    "\n",
    "model.eval()\n",
    "with torch.no_grad():\n",
    "    for sample, target in test_loader:\n",
    "        \n",
    "        target = target.flatten()\n",
    "        prediction = model(sample)\n",
    "        prediction = prediction.flatten()\n",
    "        y_pred = torch.round(prediction)\n",
    "        num_sample += len(target)\n",
    "        correct_sample += (y_pred == target).sum().float()\n",
    "        \n",
    "    acc = correct_sample / num_sample\n",
    "    acc = acc.item()\n",
    "\n",
    "print(f\"validation accuracy: {acc}\")"
   ]
  }
 ],
 "metadata": {
  "kernelspec": {
   "display_name": "Python 3 (ipykernel)",
   "language": "python",
   "name": "python3"
  },
  "language_info": {
   "codemirror_mode": {
    "name": "ipython",
    "version": 3
   },
   "file_extension": ".py",
   "mimetype": "text/x-python",
   "name": "python",
   "nbconvert_exporter": "python",
   "pygments_lexer": "ipython3",
   "version": "3.9.12"
  }
 },
 "nbformat": 4,
 "nbformat_minor": 5
}
