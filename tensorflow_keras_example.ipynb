{
 "cells": [
  {
   "cell_type": "code",
   "execution_count": 1,
   "id": "8b5593b4",
   "metadata": {},
   "outputs": [],
   "source": [
    "import pandas as pd\n",
    "import numpy as np\n",
    "import tensorflow as tf\n",
    "from tensorflow import keras"
   ]
  },
  {
   "cell_type": "code",
   "execution_count": 2,
   "id": "8f32a4be",
   "metadata": {},
   "outputs": [
    {
     "name": "stdout",
     "output_type": "stream",
     "text": [
      "length of the dataset is: 5172\n"
     ]
    }
   ],
   "source": [
    "# read the csv file\n",
    "em_set = pd.read_csv(\"emails.csv\")\n",
    "print(\"length of the dataset is:\", len(em_set))\n",
    "\n",
    "f = np.array(em_set)\n",
    "f = f[:, 1:].astype('float32')"
   ]
  },
  {
   "cell_type": "code",
   "execution_count": 3,
   "id": "47f476b0",
   "metadata": {},
   "outputs": [],
   "source": [
    "rate = 0.8\n",
    "LEN_em = len(em_set)\n",
    "LEN_train = int(rate * LEN_em)"
   ]
  },
  {
   "cell_type": "code",
   "execution_count": 4,
   "id": "f7443e37",
   "metadata": {},
   "outputs": [],
   "source": [
    "x_train = f[:LEN_train, :-1]\n",
    "x_test = f[LEN_train:, :-1]\n",
    "\n",
    "y_train = f[:LEN_train, -1]\n",
    "y_test = f[LEN_train:, -1]"
   ]
  },
  {
   "cell_type": "code",
   "execution_count": 5,
   "id": "9104b749",
   "metadata": {},
   "outputs": [
    {
     "name": "stdout",
     "output_type": "stream",
     "text": [
      "Model: \"sequential\"\n",
      "_________________________________________________________________\n",
      " Layer (type)                Output Shape              Param #   \n",
      "=================================================================\n",
      " dense (Dense)               (None, 1)                 3001      \n",
      "                                                                 \n",
      "=================================================================\n",
      "Total params: 3,001\n",
      "Trainable params: 3,001\n",
      "Non-trainable params: 0\n",
      "_________________________________________________________________\n"
     ]
    }
   ],
   "source": [
    "model = keras.Sequential(\n",
    "    [\n",
    "        keras.layers.Dense(1, input_shape=(3000,), activation='sigmoid')   \n",
    "    ]\n",
    ")\n",
    "\n",
    "model.compile(\n",
    "    optimizer = keras.optimizers.Adam(learning_rate=1e-3),\n",
    "    loss = keras.losses.MeanSquaredError(),\n",
    "    metrics = ['accuracy']\n",
    ")\n",
    "\n",
    "model.summary()"
   ]
  },
  {
   "cell_type": "code",
   "execution_count": 6,
   "id": "9ef7c2b5",
   "metadata": {},
   "outputs": [
    {
     "name": "stdout",
     "output_type": "stream",
     "text": [
      "Epoch 1/10\n",
      "33/33 [==============================] - 1s 3ms/step - loss: 0.2193 - accuracy: 0.7237\n",
      "Epoch 2/10\n",
      "33/33 [==============================] - 0s 3ms/step - loss: 0.1018 - accuracy: 0.8891\n",
      "Epoch 3/10\n",
      "33/33 [==============================] - 0s 5ms/step - loss: 0.0653 - accuracy: 0.9352\n",
      "Epoch 4/10\n",
      "33/33 [==============================] - 0s 4ms/step - loss: 0.0517 - accuracy: 0.9538\n",
      "Epoch 5/10\n",
      "33/33 [==============================] - 0s 3ms/step - loss: 0.0430 - accuracy: 0.9647\n",
      "Epoch 6/10\n",
      "33/33 [==============================] - 0s 3ms/step - loss: 0.0389 - accuracy: 0.9717\n",
      "Epoch 7/10\n",
      "33/33 [==============================] - 0s 3ms/step - loss: 0.0343 - accuracy: 0.9734\n",
      "Epoch 8/10\n",
      "33/33 [==============================] - 0s 3ms/step - loss: 0.0310 - accuracy: 0.9756\n",
      "Epoch 9/10\n",
      "33/33 [==============================] - 0s 4ms/step - loss: 0.0293 - accuracy: 0.9775\n",
      "Epoch 10/10\n",
      "33/33 [==============================] - 0s 3ms/step - loss: 0.0269 - accuracy: 0.9792\n"
     ]
    },
    {
     "data": {
      "text/plain": [
       "<keras.callbacks.History at 0x18f6393ed00>"
      ]
     },
     "execution_count": 6,
     "metadata": {},
     "output_type": "execute_result"
    }
   ],
   "source": [
    "EPOCHS = 10\n",
    "BATCH_SIZE = 128\n",
    "model.fit(x_train, y_train, epochs=EPOCHS, batch_size=BATCH_SIZE, shuffle=True)"
   ]
  },
  {
   "cell_type": "code",
   "execution_count": 7,
   "id": "80b99d0d",
   "metadata": {},
   "outputs": [
    {
     "name": "stdout",
     "output_type": "stream",
     "text": [
      "33/33 [==============================] - 0s 2ms/step - loss: 0.0517 - accuracy: 0.9430\n",
      "validation accuracy: 0.9429951906204224\n"
     ]
    }
   ],
   "source": [
    "loss, acc = model.evaluate(x_test, y_test)\n",
    "print(f\"validation accuracy: {acc}\")"
   ]
  },
  {
   "cell_type": "markdown",
   "id": "a3f92849",
   "metadata": {},
   "source": [
    "# Save the model"
   ]
  },
  {
   "cell_type": "code",
   "execution_count": 8,
   "id": "92af289d",
   "metadata": {},
   "outputs": [],
   "source": [
    "model.save(\"spam-keras-nn.h5\")"
   ]
  },
  {
   "cell_type": "markdown",
   "id": "5ed1d3dd",
   "metadata": {},
   "source": [
    "# Load the pretrained model"
   ]
  },
  {
   "cell_type": "code",
   "execution_count": 9,
   "id": "fd72d250",
   "metadata": {},
   "outputs": [],
   "source": [
    "imported_model = keras.models.load_model(\"spam-keras-nn.h5\")"
   ]
  },
  {
   "cell_type": "markdown",
   "id": "69bfe749",
   "metadata": {},
   "source": [
    "---"
   ]
  },
  {
   "cell_type": "markdown",
   "id": "22a10730",
   "metadata": {},
   "source": [
    "# Define your email"
   ]
  },
  {
   "cell_type": "code",
   "execution_count": 10,
   "id": "a9fcd04c",
   "metadata": {},
   "outputs": [],
   "source": [
    "my_mail = \"this is the first email\""
   ]
  },
  {
   "cell_type": "code",
   "execution_count": 11,
   "id": "2c833e2c",
   "metadata": {},
   "outputs": [],
   "source": [
    "# get the key words\n",
    "column_names = []\n",
    "for column in em_set.columns:\n",
    "    column_names.append(column)\n",
    "    \n",
    "del column_names[0]\n",
    "del column_names[-1]"
   ]
  },
  {
   "cell_type": "markdown",
   "id": "3499d1b2",
   "metadata": {},
   "source": [
    "# Calculate the occurrences"
   ]
  },
  {
   "cell_type": "code",
   "execution_count": 12,
   "id": "202ad20e",
   "metadata": {},
   "outputs": [],
   "source": [
    "from MyClass import Mail\n",
    "\n",
    "mail1 = Mail(column_names, my_mail)\n",
    "num1 = mail1.get_occurrences()"
   ]
  },
  {
   "cell_type": "markdown",
   "id": "68e19e7b",
   "metadata": {},
   "source": [
    "# Spam or Non-spam"
   ]
  },
  {
   "cell_type": "code",
   "execution_count": 13,
   "id": "68836dde",
   "metadata": {},
   "outputs": [
    {
     "name": "stdout",
     "output_type": "stream",
     "text": [
      "This is a normal email\n"
     ]
    }
   ],
   "source": [
    "if imported_model(np.array(num1).reshape(1, -1)) >= 0.5:\n",
    "    print(\"This is a spam\")\n",
    "else:\n",
    "    print(\"This is a normal email\")"
   ]
  }
 ],
 "metadata": {
  "kernelspec": {
   "display_name": "Python 3 (ipykernel)",
   "language": "python",
   "name": "python3"
  },
  "language_info": {
   "codemirror_mode": {
    "name": "ipython",
    "version": 3
   },
   "file_extension": ".py",
   "mimetype": "text/x-python",
   "name": "python",
   "nbconvert_exporter": "python",
   "pygments_lexer": "ipython3",
   "version": "3.9.12"
  }
 },
 "nbformat": 4,
 "nbformat_minor": 5
}
