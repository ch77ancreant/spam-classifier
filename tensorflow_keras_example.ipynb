{
 "cells": [
  {
   "cell_type": "code",
   "execution_count": 1,
   "id": "8b5593b4",
   "metadata": {},
   "outputs": [],
   "source": [
    "import pandas as pd\n",
    "import numpy as np\n",
    "import tensorflow as tf\n",
    "from tensorflow import keras"
   ]
  },
  {
   "cell_type": "code",
   "execution_count": 2,
   "id": "8f32a4be",
   "metadata": {},
   "outputs": [
    {
     "name": "stdout",
     "output_type": "stream",
     "text": [
      "length of the dataset is: 5172\n"
     ]
    }
   ],
   "source": [
    "url='https://drive.google.com/file/d/15lHo3g3MacKROIxPXoKb5BKJlnkZ0KsT/view?usp=sharing'\n",
    "url='https://drive.google.com/uc?id=' + url.split('/')[-2]\n",
    "\n",
    "# read the csv file\n",
    "em_set = pd.read_csv(url)\n",
    "print(\"length of the dataset is:\", len(em_set))\n",
    "\n",
    "f = np.array(em_set)\n",
    "f = f[:, 1:].astype('float64')"
   ]
  },
  {
   "cell_type": "code",
   "execution_count": 3,
   "id": "47f476b0",
   "metadata": {},
   "outputs": [],
   "source": [
    "rate = 0.8\n",
    "LEN_em = len(em_set)\n",
    "LEN_train = int(rate * LEN_em)"
   ]
  },
  {
   "cell_type": "code",
   "execution_count": 4,
   "id": "f7443e37",
   "metadata": {},
   "outputs": [],
   "source": [
    "x_train = f[:LEN_train, :-1]\n",
    "x_test = f[LEN_train:, :-1]\n",
    "\n",
    "y_train = f[:LEN_train, -1]\n",
    "y_test = f[LEN_train:, -1]"
   ]
  },
  {
   "cell_type": "code",
   "execution_count": 5,
   "id": "9104b749",
   "metadata": {},
   "outputs": [
    {
     "name": "stdout",
     "output_type": "stream",
     "text": [
      "Model: \"sequential\"\n",
      "_________________________________________________________________\n",
      " Layer (type)                Output Shape              Param #   \n",
      "=================================================================\n",
      " dense (Dense)               (None, 1)                 3001      \n",
      "                                                                 \n",
      "=================================================================\n",
      "Total params: 3,001\n",
      "Trainable params: 3,001\n",
      "Non-trainable params: 0\n",
      "_________________________________________________________________\n"
     ]
    }
   ],
   "source": [
    "model = keras.Sequential(\n",
    "    [\n",
    "        keras.layers.Dense(1, input_shape=(3000,), activation='sigmoid')   \n",
    "    ]\n",
    ")\n",
    "\n",
    "model.compile(\n",
    "    optimizer = keras.optimizers.Adam(learning_rate=1e-3),\n",
    "    loss = keras.losses.MeanSquaredError(),\n",
    "    metrics = ['accuracy']\n",
    ")\n",
    "\n",
    "model.summary()"
   ]
  },
  {
   "cell_type": "code",
   "execution_count": 6,
   "id": "9ef7c2b5",
   "metadata": {},
   "outputs": [
    {
     "name": "stdout",
     "output_type": "stream",
     "text": [
      "Epoch 1/5\n",
      "33/33 [==============================] - 1s 4ms/step - loss: 0.2632 - accuracy: 0.6657\n",
      "Epoch 2/5\n",
      "33/33 [==============================] - 0s 3ms/step - loss: 0.1326 - accuracy: 0.8513\n",
      "Epoch 3/5\n",
      "33/33 [==============================] - 0s 3ms/step - loss: 0.0721 - accuracy: 0.9345\n",
      "Epoch 4/5\n",
      "33/33 [==============================] - 0s 4ms/step - loss: 0.0549 - accuracy: 0.9521\n",
      "Epoch 5/5\n",
      "33/33 [==============================] - 0s 3ms/step - loss: 0.0458 - accuracy: 0.9633\n"
     ]
    },
    {
     "data": {
      "text/plain": [
       "<keras.callbacks.History at 0x1b523dbd880>"
      ]
     },
     "execution_count": 6,
     "metadata": {},
     "output_type": "execute_result"
    }
   ],
   "source": [
    "EPOCHS = 5\n",
    "BATCH_SIZE = 128\n",
    "model.fit(x_train, y_train, epochs=EPOCHS, batch_size=BATCH_SIZE, shuffle=True)"
   ]
  },
  {
   "cell_type": "code",
   "execution_count": 7,
   "id": "80b99d0d",
   "metadata": {},
   "outputs": [
    {
     "name": "stdout",
     "output_type": "stream",
     "text": [
      "33/33 [==============================] - 0s 2ms/step - loss: 0.0629 - accuracy: 0.9401\n",
      "validation accuracy: 0.9400966167449951\n"
     ]
    }
   ],
   "source": [
    "loss, acc = model.evaluate(x_test, y_test)\n",
    "print(f\"validation accuracy: {acc}\")"
   ]
  }
 ],
 "metadata": {
  "kernelspec": {
   "display_name": "Python 3 (ipykernel)",
   "language": "python",
   "name": "python3"
  },
  "language_info": {
   "codemirror_mode": {
    "name": "ipython",
    "version": 3
   },
   "file_extension": ".py",
   "mimetype": "text/x-python",
   "name": "python",
   "nbconvert_exporter": "python",
   "pygments_lexer": "ipython3",
   "version": "3.9.12"
  }
 },
 "nbformat": 4,
 "nbformat_minor": 5
}
