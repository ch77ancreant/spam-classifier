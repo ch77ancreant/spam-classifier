{
 "cells": [
  {
   "cell_type": "code",
   "execution_count": 1,
   "id": "76b25932",
   "metadata": {},
   "outputs": [],
   "source": [
    "import pandas as pd\n",
    "import numpy as np\n",
    "from sklearn import svm"
   ]
  },
  {
   "cell_type": "code",
   "execution_count": 2,
   "id": "9523d883",
   "metadata": {},
   "outputs": [
    {
     "name": "stdout",
     "output_type": "stream",
     "text": [
      "length of the dataset is: 5172\n"
     ]
    }
   ],
   "source": [
    "# read the csv file\n",
    "em_set = pd.read_csv(\"emails.csv\")\n",
    "print(\"length of the dataset is:\", len(em_set))\n",
    "\n",
    "f = np.array(em_set)\n",
    "f = f[:, 1:].astype('float32')"
   ]
  },
  {
   "cell_type": "code",
   "execution_count": 3,
   "id": "a91bc5cc",
   "metadata": {},
   "outputs": [],
   "source": [
    "rate = 0.8\n",
    "LEN_em = len(em_set)\n",
    "LEN_train = int(rate * LEN_em)"
   ]
  },
  {
   "cell_type": "code",
   "execution_count": 4,
   "id": "075a1a4e",
   "metadata": {},
   "outputs": [],
   "source": [
    "x_train = f[:LEN_train, :-1]\n",
    "x_test = f[LEN_train:, :-1]\n",
    "\n",
    "y_train = f[:LEN_train, -1]\n",
    "y_test = f[LEN_train:, -1]"
   ]
  },
  {
   "cell_type": "code",
   "execution_count": 5,
   "id": "6e7c05eb",
   "metadata": {},
   "outputs": [
    {
     "data": {
      "text/plain": [
       "SVC(C=2, gamma='auto', kernel='linear')"
      ]
     },
     "execution_count": 5,
     "metadata": {},
     "output_type": "execute_result"
    }
   ],
   "source": [
    "model = svm.SVC(kernel='linear', C=2, gamma='auto')\n",
    "model.fit(x_train,y_train)"
   ]
  },
  {
   "cell_type": "code",
   "execution_count": 6,
   "id": "947c4d96",
   "metadata": {},
   "outputs": [
    {
     "name": "stdout",
     "output_type": "stream",
     "text": [
      "validation accuracy: 0.9178743961352657\n"
     ]
    }
   ],
   "source": [
    "acc = model.score(x_test, y_test)\n",
    "print(f\"validation accuracy: {acc}\")"
   ]
  },
  {
   "cell_type": "markdown",
   "id": "eab9a973",
   "metadata": {},
   "source": [
    "# Save the model"
   ]
  },
  {
   "cell_type": "code",
   "execution_count": 7,
   "id": "afbf185f",
   "metadata": {},
   "outputs": [
    {
     "data": {
      "text/plain": [
       "['spam-sklearn-svm.pkl']"
      ]
     },
     "execution_count": 7,
     "metadata": {},
     "output_type": "execute_result"
    }
   ],
   "source": [
    "import joblib\n",
    "joblib.dump(model, 'spam-sklearn-svm.pkl')"
   ]
  },
  {
   "cell_type": "markdown",
   "id": "82bce2c6",
   "metadata": {},
   "source": [
    "# Load the pretrained model"
   ]
  },
  {
   "cell_type": "code",
   "execution_count": 8,
   "id": "0041d245",
   "metadata": {},
   "outputs": [],
   "source": [
    "imported_model = joblib.load('spam-sklearn-svm.pkl')"
   ]
  },
  {
   "cell_type": "markdown",
   "id": "c0a96e20",
   "metadata": {},
   "source": [
    "---"
   ]
  },
  {
   "cell_type": "markdown",
   "id": "f8b97415",
   "metadata": {},
   "source": [
    "# Define your email"
   ]
  },
  {
   "cell_type": "code",
   "execution_count": 9,
   "id": "79771a97",
   "metadata": {},
   "outputs": [],
   "source": [
    "my_mail = \"this is the first email\""
   ]
  },
  {
   "cell_type": "code",
   "execution_count": 10,
   "id": "afa6de6d",
   "metadata": {},
   "outputs": [],
   "source": [
    "# get the key words\n",
    "column_names = []\n",
    "for column in em_set.columns:\n",
    "    column_names.append(column)\n",
    "    \n",
    "del column_names[0]\n",
    "del column_names[-1]"
   ]
  },
  {
   "cell_type": "markdown",
   "id": "6bd4bfb2",
   "metadata": {},
   "source": [
    "# Calculate the occurrences"
   ]
  },
  {
   "cell_type": "code",
   "execution_count": 11,
   "id": "d8732d59",
   "metadata": {},
   "outputs": [],
   "source": [
    "from MyClass import Mail\n",
    "\n",
    "mail1 = Mail(column_names, my_mail)\n",
    "num1 = mail1.get_occurrences()"
   ]
  },
  {
   "cell_type": "markdown",
   "id": "b587b734",
   "metadata": {},
   "source": [
    "# Spam or Non-spam"
   ]
  },
  {
   "cell_type": "code",
   "execution_count": 12,
   "id": "b3c87629",
   "metadata": {},
   "outputs": [
    {
     "name": "stdout",
     "output_type": "stream",
     "text": [
      "This is a spam\n"
     ]
    }
   ],
   "source": [
    "if imported_model.predict(np.array(num1).reshape(1, -1)) == 1:\n",
    "    print(\"This is a spam\")\n",
    "else:\n",
    "    print(\"This is a normal email\")"
   ]
  }
 ],
 "metadata": {
  "kernelspec": {
   "display_name": "Python 3 (ipykernel)",
   "language": "python",
   "name": "python3"
  },
  "language_info": {
   "codemirror_mode": {
    "name": "ipython",
    "version": 3
   },
   "file_extension": ".py",
   "mimetype": "text/x-python",
   "name": "python",
   "nbconvert_exporter": "python",
   "pygments_lexer": "ipython3",
   "version": "3.9.12"
  }
 },
 "nbformat": 4,
 "nbformat_minor": 5
}
