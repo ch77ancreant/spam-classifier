{
 "cells": [
  {
   "cell_type": "code",
   "execution_count": 40,
   "id": "76b25932",
   "metadata": {},
   "outputs": [],
   "source": [
    "import pandas as pd\n",
    "import numpy as np\n",
    "from sklearn import svm"
   ]
  },
  {
   "cell_type": "code",
   "execution_count": 41,
   "id": "9523d883",
   "metadata": {},
   "outputs": [
    {
     "name": "stdout",
     "output_type": "stream",
     "text": [
      "length of the dataset is: 5172\n"
     ]
    }
   ],
   "source": [
    "url='https://drive.google.com/file/d/15lHo3g3MacKROIxPXoKb5BKJlnkZ0KsT/view?usp=sharing'\n",
    "url='https://drive.google.com/uc?id=' + url.split('/')[-2]\n",
    "\n",
    "# read the csv file\n",
    "em_set = pd.read_csv(url)\n",
    "print(\"length of the dataset is:\", len(em_set))\n",
    "\n",
    "f = np.array(em_set)\n",
    "f = f[:, 1:].astype('float64')"
   ]
  },
  {
   "cell_type": "code",
   "execution_count": 42,
   "id": "a91bc5cc",
   "metadata": {},
   "outputs": [],
   "source": [
    "rate = 0.8\n",
    "LEN_em = len(em_set)\n",
    "LEN_train = int(rate * LEN_em)"
   ]
  },
  {
   "cell_type": "code",
   "execution_count": 43,
   "id": "075a1a4e",
   "metadata": {},
   "outputs": [],
   "source": [
    "x_train = f[:LEN_train, :-1]\n",
    "x_test = f[LEN_train:, :-1]\n",
    "\n",
    "y_train = f[:LEN_train, -1]\n",
    "y_test = f[LEN_train:, -1]"
   ]
  },
  {
   "cell_type": "code",
   "execution_count": 44,
   "id": "6e7c05eb",
   "metadata": {},
   "outputs": [
    {
     "data": {
      "text/plain": [
       "SVC(C=2, gamma='auto', kernel='linear')"
      ]
     },
     "execution_count": 44,
     "metadata": {},
     "output_type": "execute_result"
    }
   ],
   "source": [
    "model = svm.SVC(kernel='linear', C=2, gamma='auto')\n",
    "model.fit(x_train,y_train)"
   ]
  },
  {
   "cell_type": "code",
   "execution_count": 45,
   "id": "947c4d96",
   "metadata": {},
   "outputs": [
    {
     "name": "stdout",
     "output_type": "stream",
     "text": [
      "validation accuracy: 0.9178743961352657\n"
     ]
    }
   ],
   "source": [
    "acc = model.score(x_test, y_test)\n",
    "print(f\"validation accuracy: {acc}\")"
   ]
  },
  {
   "cell_type": "code",
   "execution_count": null,
   "id": "706aa000",
   "metadata": {},
   "outputs": [],
   "source": [
    "print(\"Hello\")"
   ]
  }
 ],
 "metadata": {
  "kernelspec": {
   "display_name": "Python 3 (ipykernel)",
   "language": "python",
   "name": "python3"
  },
  "language_info": {
   "codemirror_mode": {
    "name": "ipython",
    "version": 3
   },
   "file_extension": ".py",
   "mimetype": "text/x-python",
   "name": "python",
   "nbconvert_exporter": "python",
   "pygments_lexer": "ipython3",
   "version": "3.9.12"
  }
 },
 "nbformat": 4,
 "nbformat_minor": 5
}
